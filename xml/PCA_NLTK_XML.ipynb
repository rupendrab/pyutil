{
 "cells": [
  {
   "cell_type": "code",
   "execution_count": 6,
   "metadata": {
    "collapsed": true
   },
   "outputs": [],
   "source": [
    "from os import walk, path\n",
    "import numpy as np\n",
    "import mahotas as mh\n",
    "from sklearn.cross_validation import cross_val_score\n",
    "from sklearn.cross_validation import train_test_split\n",
    "from sklearn.preprocessing import scale\n",
    "from sklearn.decomposition import PCA\n",
    "from sklearn.linear_model import LogisticRegression\n",
    "from sklearn.metrics import classification_report\n",
    "from PIL import Image"
   ]
  },
  {
   "cell_type": "code",
   "execution_count": 8,
   "metadata": {
    "collapsed": false
   },
   "outputs": [
    {
     "data": {
      "text/plain": [
       "'C:\\\\Users\\\\rubandyopadhyay\\\\Documents\\\\Python\\\\ML'"
      ]
     },
     "execution_count": 8,
     "metadata": {},
     "output_type": "execute_result"
    }
   ],
   "source": [
    "import os\n",
    "os.getcwd()"
   ]
  },
  {
   "cell_type": "code",
   "execution_count": 12,
   "metadata": {
    "collapsed": false
   },
   "outputs": [
    {
     "name": "stdout",
     "output_type": "stream",
     "text": [
      "10304\n",
      "(112, 92)\n"
     ]
    }
   ],
   "source": [
    "start_dir = \"..\\\\8365OS_Final code\\\\8365OS_07_Codes\\\\\"\n",
    "my_dir = start_dir + \"data\\\\att-faces\\\\orl_faces\\\\s1\"\n",
    "newname = my_dir + \"\\\\\" + \"1.pgm.bmp\"\n",
    "img_data_1 = mh.imread(newname, as_grey=True)\n",
    "(x, y) = img_data_1.shape\n",
    "print(x*y)\n",
    "print(x,y)"
   ]
  },
  {
   "cell_type": "code",
   "execution_count": null,
   "metadata": {
    "collapsed": false
   },
   "outputs": [],
   "source": [
    "X = []\n",
    "y = []\n",
    "start_dir = \"..\\8365OS_Final code\\\\8365OS_07_Codes\\\\\"\n",
    "walk_dir = start_dir + \"data\\\\att-faces\\\\orl_faces\\\\\"\n",
    "for dir_path, dir_names, file_names in walk(walk_dir):\n",
    "    for fn in file_names:\n",
    "        if fn[-3:] == 'bmp':\n",
    "            image_filename = path.join(dir_path, fn)\n",
    "            print(image_filename)\n",
    "            # imf = Image.open(image_filename)\n",
    "            # newname = image_filename + \".bmp\"\n",
    "            # imf.save(newname)\n",
    "            X.append(scale(mh.imread(image_filename, as_grey=True).reshape(10304).\n",
    "                    astype('float32')))\n",
    "            y.append(dir_path)\n",
    "X = np.array(X)\n"
   ]
  },
  {
   "cell_type": "code",
   "execution_count": 19,
   "metadata": {
    "collapsed": false
   },
   "outputs": [
    {
     "name": "stdout",
     "output_type": "stream",
     "text": [
      "(400, 10304)\n",
      "400\n",
      "((300, 150), (100, 150))\n",
      "('The original dimensions of the training data', (300, 10304))\n",
      "('The reduced dimensions of the training data', (300, 150))\n"
     ]
    }
   ],
   "source": [
    "print(X.shape)\n",
    "print(len(y))\n",
    "X_train, X_test, y_train, y_test = train_test_split(X, y)\n",
    "pca = PCA(n_components=150)\n",
    "X_train_reduced = pca.fit_transform(X_train)\n",
    "X_test_reduced = pca.transform(X_test)\n",
    "print(X_train_reduced.shape, X_test_reduced.shape)\n",
    "print('The original dimensions of the training data', X_train.shape)\n",
    "print('The reduced dimensions of the training data', X_train_reduced.shape)\n"
   ]
  },
  {
   "cell_type": "code",
   "execution_count": 21,
   "metadata": {
    "collapsed": false
   },
   "outputs": [
    {
     "name": "stdout",
     "output_type": "stream",
     "text": [
      "('Cross validation accuracy:', 0.83705044545752505, array([ 0.83185841,  0.83838384,  0.84090909]))\n",
      "             precision    recall  f1-score   support\n",
      "\n",
      "..\\8365OS_Final code\\8365OS_07_Codes\\data\\att-faces\\orl_faces\\s1       1.00      0.50      0.67         2\n",
      "..\\8365OS_Final code\\8365OS_07_Codes\\data\\att-faces\\orl_faces\\s10       1.00      1.00      1.00         2\n",
      "..\\8365OS_Final code\\8365OS_07_Codes\\data\\att-faces\\orl_faces\\s12       1.00      1.00      1.00         4\n",
      "..\\8365OS_Final code\\8365OS_07_Codes\\data\\att-faces\\orl_faces\\s13       0.67      1.00      0.80         2\n",
      "..\\8365OS_Final code\\8365OS_07_Codes\\data\\att-faces\\orl_faces\\s14       1.00      0.75      0.86         4\n",
      "..\\8365OS_Final code\\8365OS_07_Codes\\data\\att-faces\\orl_faces\\s15       1.00      1.00      1.00         3\n",
      "..\\8365OS_Final code\\8365OS_07_Codes\\data\\att-faces\\orl_faces\\s16       1.00      0.75      0.86         4\n",
      "..\\8365OS_Final code\\8365OS_07_Codes\\data\\att-faces\\orl_faces\\s17       1.00      1.00      1.00         1\n",
      "..\\8365OS_Final code\\8365OS_07_Codes\\data\\att-faces\\orl_faces\\s18       1.00      1.00      1.00         3\n",
      "..\\8365OS_Final code\\8365OS_07_Codes\\data\\att-faces\\orl_faces\\s19       1.00      1.00      1.00         4\n",
      "..\\8365OS_Final code\\8365OS_07_Codes\\data\\att-faces\\orl_faces\\s2       1.00      1.00      1.00         4\n",
      "..\\8365OS_Final code\\8365OS_07_Codes\\data\\att-faces\\orl_faces\\s20       1.00      1.00      1.00         3\n",
      "..\\8365OS_Final code\\8365OS_07_Codes\\data\\att-faces\\orl_faces\\s21       1.00      1.00      1.00         1\n",
      "..\\8365OS_Final code\\8365OS_07_Codes\\data\\att-faces\\orl_faces\\s22       0.75      1.00      0.86         3\n",
      "..\\8365OS_Final code\\8365OS_07_Codes\\data\\att-faces\\orl_faces\\s23       1.00      1.00      1.00         3\n",
      "..\\8365OS_Final code\\8365OS_07_Codes\\data\\att-faces\\orl_faces\\s24       0.50      1.00      0.67         1\n",
      "..\\8365OS_Final code\\8365OS_07_Codes\\data\\att-faces\\orl_faces\\s26       1.00      1.00      1.00         3\n",
      "..\\8365OS_Final code\\8365OS_07_Codes\\data\\att-faces\\orl_faces\\s27       0.67      1.00      0.80         2\n",
      "..\\8365OS_Final code\\8365OS_07_Codes\\data\\att-faces\\orl_faces\\s28       1.00      0.50      0.67         2\n",
      "..\\8365OS_Final code\\8365OS_07_Codes\\data\\att-faces\\orl_faces\\s29       1.00      1.00      1.00         3\n",
      "..\\8365OS_Final code\\8365OS_07_Codes\\data\\att-faces\\orl_faces\\s3       1.00      1.00      1.00         1\n",
      "..\\8365OS_Final code\\8365OS_07_Codes\\data\\att-faces\\orl_faces\\s30       1.00      1.00      1.00         1\n",
      "..\\8365OS_Final code\\8365OS_07_Codes\\data\\att-faces\\orl_faces\\s31       0.75      1.00      0.86         3\n",
      "..\\8365OS_Final code\\8365OS_07_Codes\\data\\att-faces\\orl_faces\\s32       1.00      0.67      0.80         3\n",
      "..\\8365OS_Final code\\8365OS_07_Codes\\data\\att-faces\\orl_faces\\s33       1.00      1.00      1.00         2\n",
      "..\\8365OS_Final code\\8365OS_07_Codes\\data\\att-faces\\orl_faces\\s34       1.00      1.00      1.00         1\n",
      "..\\8365OS_Final code\\8365OS_07_Codes\\data\\att-faces\\orl_faces\\s35       1.00      1.00      1.00         2\n",
      "..\\8365OS_Final code\\8365OS_07_Codes\\data\\att-faces\\orl_faces\\s36       0.80      1.00      0.89         4\n",
      "..\\8365OS_Final code\\8365OS_07_Codes\\data\\att-faces\\orl_faces\\s37       1.00      1.00      1.00         4\n",
      "..\\8365OS_Final code\\8365OS_07_Codes\\data\\att-faces\\orl_faces\\s38       1.00      1.00      1.00         2\n",
      "..\\8365OS_Final code\\8365OS_07_Codes\\data\\att-faces\\orl_faces\\s39       1.00      1.00      1.00         3\n",
      "..\\8365OS_Final code\\8365OS_07_Codes\\data\\att-faces\\orl_faces\\s4       1.00      1.00      1.00         3\n",
      "..\\8365OS_Final code\\8365OS_07_Codes\\data\\att-faces\\orl_faces\\s40       1.00      1.00      1.00         2\n",
      "..\\8365OS_Final code\\8365OS_07_Codes\\data\\att-faces\\orl_faces\\s5       1.00      0.75      0.86         4\n",
      "..\\8365OS_Final code\\8365OS_07_Codes\\data\\att-faces\\orl_faces\\s6       1.00      1.00      1.00         2\n",
      "..\\8365OS_Final code\\8365OS_07_Codes\\data\\att-faces\\orl_faces\\s7       1.00      1.00      1.00         2\n",
      "..\\8365OS_Final code\\8365OS_07_Codes\\data\\att-faces\\orl_faces\\s8       1.00      1.00      1.00         6\n",
      "..\\8365OS_Final code\\8365OS_07_Codes\\data\\att-faces\\orl_faces\\s9       1.00      1.00      1.00         1\n",
      "\n",
      "avg / total       0.96      0.94      0.94       100\n",
      "\n"
     ]
    }
   ],
   "source": [
    "classifier = LogisticRegression()\n",
    "accuracies = cross_val_score(classifier, X_train_reduced, y_train)\n",
    "print('Cross validation accuracy:', np.mean(accuracies), accuracies)\n",
    "classifier.fit(X_train_reduced, y_train)\n",
    "predictions = classifier.predict(X_test_reduced)\n",
    "print(classification_report(y_test, predictions))\n"
   ]
  },
  {
   "cell_type": "code",
   "execution_count": 71,
   "metadata": {
    "collapsed": false
   },
   "outputs": [
    {
     "name": "stdout",
     "output_type": "stream",
     "text": [
      "[False False False False False False False False False  True False False\n",
      " False False False False False False False  True  True False False False\n",
      " False False False False False False False False False False False False\n",
      " False False False False False False False  True False False False False\n",
      " False False False False False False False False False False False False\n",
      " False False False False False False False False False False False False\n",
      " False False False  True False False False False False False False False\n",
      " False False False False False False False  True False False False False\n",
      " False False False False]\n",
      "[(19, 0.1457267706139721), (17, 0.13998551103540396), (0, 0.070609981150858037), (21, 0.068402984507014292), (14, 0.063719113086835574), (23, 0.057598779538439691), (4, 0.048381238364807774), (35, 0.045635820212226362), (7, 0.041217503357642564), (32, 0.032623384683982536), (2, 0.031382264615418647), (26, 0.027780960050709212), (22, 0.02689562398278468), (1, 0.024700088995388333), (10, 0.021371955307816395), (16, 0.017665792831864067), (39, 0.014675898587797101), (11, 0.014600441992554019), (29, 0.014142343523864996), (37, 0.011897451118467716), (30, 0.011242776268794337), (5, 0.010455994487862092), (9, 0.0077750691700686075), (34, 0.0075078291257444562), (8, 0.0073582373673871477), (36, 0.0049786556290020208), (20, 0.0048567950323495021), (12, 0.0042186587676211577), (38, 0.0039319709238742808), (31, 0.0037434651996531335), (13, 0.0032224087601293635), (33, 0.0027414348045859205), (28, 0.001807826459062754), (24, 0.0013470821989611239), (3, 0.0012074446850017522), (6, 0.0011180797316877212), (15, 0.0011092673726773535), (27, 0.00090977185634253559), (18, 0.00084075744157583636), (25, 0.00061256715977085329)]\n",
      "()\n",
      "First Choice: ..\\8365OS_Final code\\8365OS_07_Codes\\data\\att-faces\\orl_faces\\s27\n",
      "Second Choice: ..\\8365OS_Final code\\8365OS_07_Codes\\data\\att-faces\\orl_faces\\s25\n",
      "Predicted: ..\\8365OS_Final code\\8365OS_07_Codes\\data\\att-faces\\orl_faces\\s27\n",
      "Actual: ..\\8365OS_Final code\\8365OS_07_Codes\\data\\att-faces\\orl_faces\\s16\n",
      "[False False False False False False False  True False False False False\n",
      " False False False False False False False False False False False False\n",
      " False False False False False False False False False False False False\n",
      " False False False False]\n"
     ]
    }
   ],
   "source": [
    "np.mean(y_test == predictions)\n",
    "y_test == predictions.ravel()\n",
    "probs = classifier.predict_proba(X_test_reduced)\n",
    "import operator\n",
    "sorted([(i, v) for i,v in enumerate(probs[0])], key=operator.itemgetter(1), reverse=True)\n",
    "print(y_test != predictions.ravel())\n",
    "np.where(y_test != predictions.ravel())\n",
    "print(sorted([(i, v) for i,v in enumerate(probs[9])], key=operator.itemgetter(1), reverse=True))\n",
    "# print(classifier.classes_)\n",
    "print()\n",
    "print(\"First Choice: \" + classifier.classes_[19])\n",
    "print(\"Second Choice: \" + classifier.classes_[17])\n",
    "print(\"Predicted: \" + predictions[9])\n",
    "print(\"Actual: \" + y_test[9])\n",
    "print(classifier.classes_ == y_test[9])"
   ]
  },
  {
   "cell_type": "code",
   "execution_count": 66,
   "metadata": {
    "collapsed": false
   },
   "outputs": [
    {
     "data": {
      "text/plain": [
       "<matplotlib.image.AxesImage at 0x12203950>"
      ]
     },
     "execution_count": 66,
     "metadata": {},
     "output_type": "execute_result"
    },
    {
     "data": {
      "image/png": "[encoded data removed]",
      "text/plain": [
       "<matplotlib.figure.Figure at 0x121514b0>"
      ]
     },
     "metadata": {},
     "output_type": "display_data"
    }
   ],
   "source": [
    "%matplotlib inline\n",
    "from PIL import Image\n",
    "from pylab import imshow, show\n",
    "\n",
    "imshow(X_test[9].reshape(112, 92), cmap='gray')"
   ]
  },
  {
   "cell_type": "code",
   "execution_count": 92,
   "metadata": {
    "collapsed": false
   },
   "outputs": [
    {
     "name": "stdout",
     "output_type": "stream",
     "text": [
      "  (0, 5)\t1.0\n",
      "  (1, 3)\t0.707106781187\n",
      "  (1, 1)\t0.707106781187\n"
     ]
    },
    {
     "data": {
      "text/plain": [
       "array([[ 0.        ,  0.        ,  0.        ,  0.        ,  0.        ,\n",
       "         1.        ,  0.        ,  0.        ,  0.        ,  0.        ,\n",
       "         0.        ,  0.        ],\n",
       "       [ 0.        ,  0.70710678,  0.        ,  0.70710678,  0.        ,\n",
       "         0.        ,  0.        ,  0.        ,  0.        ,  0.        ,\n",
       "         0.        ,  0.        ]])"
      ]
     },
     "execution_count": 92,
     "metadata": {},
     "output_type": "execute_result"
    }
   ],
   "source": [
    "from sklearn.feature_extraction.text import TfidfVectorizer\n",
    "\n",
    "vocabulary = \"a list of words I want to look for in the documents\".split()\n",
    "vect = TfidfVectorizer(sublinear_tf=True, max_df=0.5, analyzer='word', \n",
    "           stop_words='english', vocabulary=vocabulary)\n",
    "\n",
    "doc = [\"some string I want to get tf-idf vector for\", \"list of words\"]\n",
    "tfidf = vect.fit(doc)\n",
    "trf = vect.transform(doc)\n",
    "print(trf)\n",
    "trf.toarray()"
   ]
  },
  {
   "cell_type": "code",
   "execution_count": 93,
   "metadata": {
    "collapsed": true
   },
   "outputs": [],
   "source": [
    "from nltk import word_tokenize          \n",
    "from nltk.stem import WordNetLemmatizer \n"
   ]
  },
  {
   "cell_type": "code",
   "execution_count": 99,
   "metadata": {
    "collapsed": false
   },
   "outputs": [
    {
     "data": {
      "text/plain": [
       "['The',\n",
       " 'new',\n",
       " 'travel',\n",
       " 'ban',\n",
       " u'come',\n",
       " 'six',\n",
       " u'week',\n",
       " 'after',\n",
       " 'Trump',\n",
       " \"'s\",\n",
       " 'original',\n",
       " 'executive',\n",
       " 'order',\n",
       " u'wa',\n",
       " 'rolled',\n",
       " 'out',\n",
       " 'to',\n",
       " 'chaos',\n",
       " 'and',\n",
       " 'confusion',\n",
       " 'at',\n",
       " u'airport',\n",
       " 'nationwide',\n",
       " ',',\n",
       " 'and',\n",
       " 'eventually',\n",
       " 'blocked',\n",
       " 'by',\n",
       " 'a',\n",
       " 'federal',\n",
       " 'court',\n",
       " '.']"
      ]
     },
     "execution_count": 99,
     "metadata": {},
     "output_type": "execute_result"
    }
   ],
   "source": [
    "doc1 = \"The new travel ban comes six weeks after Trump's original executive order was rolled out to chaos and confusion at airports nationwide, and eventually blocked by a federal court.\"\n",
    "wnl = WordNetLemmatizer()\n",
    "word_tokenize(doc1)\n",
    "[wnl.lemmatize(t) for t in word_tokenize(doc1)]"
   ]
  },
  {
   "cell_type": "code",
   "execution_count": 106,
   "metadata": {
    "collapsed": false
   },
   "outputs": [
    {
     "name": "stdout",
     "output_type": "stream",
     "text": [
      "  (0, 8)\t1\n",
      "  (0, 3)\t1\n",
      "  (0, 6)\t1\n",
      "  (0, 2)\t1\n",
      "  (0, 1)\t1\n",
      "  (1, 8)\t1\n",
      "  (1, 3)\t1\n",
      "  (1, 6)\t1\n",
      "  (1, 1)\t1\n",
      "  (1, 5)\t2\n",
      "  (2, 6)\t1\n",
      "  (2, 0)\t1\n",
      "  (2, 7)\t1\n",
      "  (2, 4)\t1\n",
      "  (3, 8)\t1\n",
      "  (3, 3)\t1\n",
      "  (3, 6)\t1\n",
      "  (3, 2)\t1\n",
      "  (3, 1)\t1\n"
     ]
    },
    {
     "data": {
      "text/plain": [
       "array([[0, 1, 1, 1, 0, 0, 1, 0, 1],\n",
       "       [0, 1, 0, 1, 0, 2, 1, 0, 1],\n",
       "       [1, 0, 0, 0, 1, 0, 1, 1, 0],\n",
       "       [0, 1, 1, 1, 0, 0, 1, 0, 1]], dtype=int64)"
      ]
     },
     "execution_count": 106,
     "metadata": {},
     "output_type": "execute_result"
    }
   ],
   "source": [
    "from sklearn.feature_extraction.text import CountVectorizer\n",
    "vectorizer = CountVectorizer(min_df=1)\n",
    "corpus = [\n",
    "     'This is the first document.',\n",
    "     'This is the second second document.',\n",
    "     'And the third one.',\n",
    "     'Is this the first document?',\n",
    "]\n",
    "X = vectorizer.fit_transform(corpus)\n",
    "# print(X) \n",
    "print(X)\n",
    "X.toarray()"
   ]
  },
  {
   "cell_type": "code",
   "execution_count": 110,
   "metadata": {
    "collapsed": false
   },
   "outputs": [
    {
     "name": "stdout",
     "output_type": "stream",
     "text": [
      "[1, 1, 1, 1, 1, 1]\n",
      "[0, 1, 0, 2, 3, 1]\n",
      "[0, 3, 6]\n"
     ]
    },
    {
     "data": {
      "text/plain": [
       "array([[2, 1, 0, 0],\n",
       "       [0, 1, 1, 1]])"
      ]
     },
     "execution_count": 110,
     "metadata": {},
     "output_type": "execute_result"
    }
   ],
   "source": [
    "from scipy.sparse import csr_matrix\n",
    "\n",
    "docs = [[\"hello\", \"world\", \"hello\"], [\"goodbye\", \"cruel\", \"world\"]]\n",
    "indptr = [0]\n",
    "indices = []\n",
    "data = []\n",
    "vocabulary = {}\n",
    "for d in docs:\n",
    "    for term in d:\n",
    "        index = vocabulary.setdefault(term, len(vocabulary))\n",
    "        indices.append(index)\n",
    "        data.append(1)\n",
    "    indptr.append(len(indices))\n",
    "\n",
    "print(data)\n",
    "print(indices)\n",
    "print(indptr)\n",
    "csr_matrix((data, indices, indptr), dtype=int).toarray()"
   ]
  },
  {
   "cell_type": "code",
   "execution_count": 117,
   "metadata": {
    "collapsed": false
   },
   "outputs": [],
   "source": [
    "import xml.etree.ElementTree\n",
    "from xml.dom import minidom"
   ]
  },
  {
   "cell_type": "code",
   "execution_count": 249,
   "metadata": {
    "collapsed": false
   },
   "outputs": [
    {
     "name": "stdout",
     "output_type": "stream",
     "text": [
      "1\n",
      "----\n",
      "{u'name': u'item1', u'stype': u'100'}\n",
      "----\n",
      "----\n",
      "{u'name': u'item2'}\n",
      "----\n",
      "----\n",
      "{u'name': u'item3'}\n",
      "----\n",
      "----\n",
      "{u'name': u'item4'}\n",
      "----\n",
      "----\n",
      "2\n",
      "----\n",
      "Test Data\n",
      "{u'xxx': u'YYY', u'name': u'item5'}\n",
      "----\n",
      "----\n",
      "{u'name': u'item6'}\n",
      "----\n",
      "----\n",
      "{u'name': u'item7'}\n",
      "----\n",
      "----\n",
      "{u'name': u'item8'}\n",
      "----\n",
      "----\n"
     ]
    }
   ],
   "source": [
    "# help(xml.etree.ElementTree)\n",
    "dir(minidom)\n",
    "xmldata = \"\"\"\n",
    "<data>\n",
    "    <items type=\"1\">\n",
    "        <item name=\"item1\" stype=\"100\"></item>\n",
    "        <item name=\"item2\"></item>\n",
    "        <item name=\"item3\"></item>\n",
    "        <item name=\"item4\"></item>\n",
    "    </items>\n",
    "    <items type=\"2\">\n",
    "        <item name=\"item5\" xxx=\"YYY\">Test Data</item>\n",
    "        <item name=\"item6\"></item>\n",
    "        <item name=\"item7\"></item>\n",
    "        <item name=\"item8\"></item>\n",
    "    </items>\n",
    "</data>\n",
    "\"\"\"\n",
    "parsed = minidom.parseString(xmldata)\n",
    "dir(parsed)\n",
    "items = parsed.getElementsByTagName('items')\n",
    "for item in items:\n",
    "    print(item.attributes[\"type\"].value)\n",
    "    for i in item.childNodes:\n",
    "        i1 = i.firstChild\n",
    "        if i1:\n",
    "            print(i1.nodeValue)\n",
    "        if i.attributes:\n",
    "            print(dict(i.attributes.items()))\n",
    "        print(\"----\")\n",
    "        # print(dir(i))\n"
   ]
  },
  {
   "cell_type": "code",
   "execution_count": 259,
   "metadata": {
    "collapsed": false
   },
   "outputs": [
    {
     "name": "stdout",
     "output_type": "stream",
     "text": [
      "attrs for div = [(u'class', u'descriptionheader')]\n",
      "attrs for P = [(u'STYLE', u'margin-top:0px;margin-bottom:0px')]\n",
      "attrs for SPAN = [(u'STYLE', u'font-family:Arial;font-size:small')]\n",
      "attrs for div = [(u'class', u'qualificationsheader')]\n",
      "attrs for UL = [(u'STYLE', u'list-style-type:disc')]\n"
     ]
    },
    {
     "data": {
      "text/plain": [
       "[{u'LI': u'PALS required upon hire',\n",
       "  u'P': '',\n",
       "  u'SPAN': u'Utilizing the standards set forth for Nursing Practice by the ANA and ONS, the RN will organize, modify, evaluate, document and maintain the plan of care for Epilepsy and/or Neurological patients. It will include individualized, family centered, holistic, supportive, and safe age-specific care.',\n",
       "  u'UL': u'',\n",
       "  u'address': u'7777 Forest Lane',\n",
       "  u'city': u'Dallas',\n",
       "  u'company': u'',\n",
       "  u'country': u'US',\n",
       "  u'description': u'',\n",
       "  u'detail-url': u'http://search.careers-hcanorthtexas.com/s/Job-Details/Registered-Nurse-Epilepsy-Job/Medical-City/xjdp-cl289619-jf120-ct2181-jid4041800?s_cid=Advance',\n",
       "  u'div': u'Qualifications',\n",
       "  u'job-category': u'Neuroscience Nursing',\n",
       "  u'job-code': u'881723',\n",
       "  u'location': u'',\n",
       "  u'name': u'Medical City (Dallas, TX)',\n",
       "  u'posted-date': u'2012-07-26',\n",
       "  u'state': u'TX',\n",
       "  u'summary': u'',\n",
       "  u'title': u'Registered Nurse-Epilepsy',\n",
       "  u'url': u'http://www.hcanorthtexas.com/careers/search-jobs.dot',\n",
       "  u'zip': u'75230'}]"
      ]
     },
     "execution_count": 259,
     "metadata": {},
     "output_type": "execute_result"
    }
   ],
   "source": [
    "import xml.sax\n",
    "\n",
    "class MyHandler(xml.sax.handler.ContentHandler):\n",
    "    def __init__(self):\n",
    "        self._charBuffer = []\n",
    "        self._result = []\n",
    "\n",
    "    def _getCharacterData(self):\n",
    "        data = ''.join(self._charBuffer).strip()\n",
    "        self._charBuffer = []\n",
    "        return data.strip() #remove strip() if whitespace is important\n",
    "\n",
    "    def parse(self, f):\n",
    "        xml.sax.parse(f, self)\n",
    "        return self._result\n",
    "\n",
    "    def characters(self, data):\n",
    "        self._charBuffer.append(data)\n",
    "\n",
    "    def startElement(self, name, attrs):\n",
    "        if attrs:\n",
    "            print(\"attrs for %s = %s\" % (name, attrs.items()))\n",
    "        if name == 'job': self._result.append({})\n",
    "\n",
    "    def endElement(self, name):\n",
    "        if not name == 'job': self._result[-1][name] = self._getCharacterData()\n",
    "\n",
    "jobs = MyHandler().parse(\"job-file.xml\") #a list of all jobs\n",
    "jobs\n"
   ]
  }
 ],
 "metadata": {
  "kernelspec": {
   "display_name": "Python 2",
   "language": "python",
   "name": "python2"
  },
  "language_info": {
   "codemirror_mode": {
    "name": "ipython",
    "version": 2
   },
   "file_extension": ".py",
   "mimetype": "text/x-python",
   "name": "python",
   "nbconvert_exporter": "python",
   "pygments_lexer": "ipython2",
   "version": "2.7.2"
  }
 },
 "nbformat": 4,
 "nbformat_minor": 0
}
